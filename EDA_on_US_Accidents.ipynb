{
  "cells": [
    {
      "cell_type": "markdown",
      "metadata": {
        "id": "view-in-github",
        "colab_type": "text"
      },
      "source": [
        "<a href=\"https://colab.research.google.com/github/anujsingh0308/dscode/blob/master/EDA_on_US_Accidents.ipynb\" target=\"_parent\"><img src=\"https://colab.research.google.com/assets/colab-badge.svg\" alt=\"Open In Colab\"/></a>"
      ]
    },
    {
      "cell_type": "markdown",
      "metadata": {
        "id": "F4DfVLp8kApc"
      },
      "source": [
        "# Exploratory Data Analysis Project on US Accidents\n",
        "Todo1- talk about EDA. \n",
        "\n",
        "Todo2- talk about dataset(source, what it contains,\n",
        "how it will be useful)\n",
        "\n",
        "-kaggle\n",
        "\n",
        "-information about accidents\n",
        "\n",
        "-useful to prevent accidents \n"
      ]
    },
    {
      "cell_type": "code",
      "execution_count": null,
      "metadata": {
        "colab": {
          "background_save": true
        },
        "id": "XEXkAa0YkKBu"
      },
      "outputs": [],
      "source": [
        "pip install opendatasets --upgrade --quiet"
      ]
    },
    {
      "cell_type": "code",
      "execution_count": null,
      "metadata": {
        "colab": {
          "background_save": true,
          "base_uri": "https://localhost:8080/"
        },
        "id": "bEIFNVP6kKNg",
        "outputId": "dd68272d-0ded-421d-e6d5-28120b5f7afb"
      },
      "outputs": [
        {
          "name": "stdout",
          "output_type": "stream",
          "text": [
            "Please provide your Kaggle credentials to download this dataset. Learn more: http://bit.ly/kaggle-creds\n",
            "Your Kaggle username:Your Kaggle Key:Downloading us-accidents.zip to ./us-accidents\n"
          ]
        },
        {
          "name": "stderr",
          "output_type": "stream",
          "text": [
            "100%|██████████| 653M/653M [00:31<00:00, 21.8MB/s]\n"
          ]
        },
        {
          "name": "stdout",
          "output_type": "stream",
          "text": [
            "\n"
          ]
        }
      ],
      "source": [
        "import opendatasets as od\n",
        "download_url='https://www.kaggle.com/datasets/sobhanmoosavi/us-accidents'\n",
        "od.download(download_url, force=True)\n"
      ]
    },
    {
      "cell_type": "code",
      "execution_count": null,
      "metadata": {
        "colab": {
          "background_save": true
        },
        "id": "ldFd2VJwkKSs"
      },
      "outputs": [],
      "source": [
        "data_filename=\"./us-accidents/US_Accidents_March23.csv\""
      ]
    },
    {
      "cell_type": "markdown",
      "metadata": {
        "id": "ZmJGR7ovn6_W"
      },
      "source": [
        "# Data Preparation and Cleaning\n",
        "Steps:\n",
        "\n",
        "1.Load the file using Pandas.\n",
        "\n",
        "2.Look out for the information about the columns and their data.\n",
        "\n",
        "3.Perform the correction of any noisy data if any.\n",
        "\n"
      ]
    },
    {
      "cell_type": "code",
      "execution_count": null,
      "metadata": {
        "colab": {
          "background_save": true
        },
        "id": "ozBAxuL_kKWG"
      },
      "outputs": [],
      "source": [
        "import pandas as pd"
      ]
    },
    {
      "cell_type": "code",
      "execution_count": null,
      "metadata": {
        "id": "JY6q5g0djqr2"
      },
      "outputs": [],
      "source": [
        "df=pd.read_csv(data_filename)"
      ]
    },
    {
      "cell_type": "code",
      "execution_count": null,
      "metadata": {
        "id": "fXsJlKsPbkUl"
      },
      "outputs": [],
      "source": [
        "df"
      ]
    },
    {
      "cell_type": "code",
      "execution_count": null,
      "metadata": {
        "id": "GJ1fFfn1bkX2"
      },
      "outputs": [],
      "source": [
        "df.shape"
      ]
    },
    {
      "cell_type": "code",
      "execution_count": null,
      "metadata": {
        "id": "6bY3CnVCbkbH"
      },
      "outputs": [],
      "source": [
        "df.columns"
      ]
    },
    {
      "cell_type": "code",
      "execution_count": null,
      "metadata": {
        "id": "9U-9tlu5b6CB"
      },
      "outputs": [],
      "source": [
        "df.info()"
      ]
    },
    {
      "cell_type": "code",
      "execution_count": null,
      "metadata": {
        "id": "bA2UBOWIb6Ec"
      },
      "outputs": [],
      "source": [
        "df.describe()"
      ]
    },
    {
      "cell_type": "code",
      "execution_count": null,
      "metadata": {
        "id": "nMoQFsuCb6G2"
      },
      "outputs": [],
      "source": [
        "numerics = ['int16', 'int32', 'int64', 'float16', 'float32', 'float64']\n",
        "\n",
        "numeric_df = df.select_dtypes(include=numerics)\n",
        "len(numeric_df.columns)"
      ]
    },
    {
      "cell_type": "code",
      "execution_count": null,
      "metadata": {
        "id": "iJGHDn9eb6JW"
      },
      "outputs": [],
      "source": [
        "df.isnull().sum().sort_values(ascending = False)"
      ]
    },
    {
      "cell_type": "markdown",
      "metadata": {
        "id": "KCKi5rdER4ne"
      },
      "source": [
        "**Percentage of missing values per column**"
      ]
    },
    {
      "cell_type": "code",
      "execution_count": null,
      "metadata": {
        "id": "QZhFHsW1b6OZ"
      },
      "outputs": [],
      "source": [
        "missing_percentages = df.isnull().sum().sort_values(ascending=False)*100 / len(df)\n",
        "missing_percentages"
      ]
    },
    {
      "cell_type": "code",
      "execution_count": null,
      "metadata": {
        "id": "P4ck-qRwb6Qs"
      },
      "outputs": [],
      "source": [
        "missing_percentages[missing_percentages!=0].plot(kind='barh')"
      ]
    },
    {
      "cell_type": "markdown",
      "metadata": {
        "id": "6Q7oNlcOTCVs"
      },
      "source": [
        "## Exploratory Analysis and Visualization\n",
        "\n",
        "We will analyze the following columns:\n",
        "\n",
        "1. City\n",
        "2. Start time\n",
        "3. Start Lat, Start Lng\n",
        "4. Temperature\n",
        "5. Weather Condition\n"
      ]
    },
    {
      "cell_type": "code",
      "execution_count": null,
      "metadata": {
        "id": "UfSIqa8ue03s"
      },
      "outputs": [],
      "source": [
        "df.City"
      ]
    },
    {
      "cell_type": "code",
      "execution_count": null,
      "metadata": {
        "id": "djOpAanwe059"
      },
      "outputs": [],
      "source": [
        "cities= df.City.unique()\n",
        "len(cities)"
      ]
    },
    {
      "cell_type": "code",
      "execution_count": null,
      "metadata": {
        "id": "izJsYTA_e09S"
      },
      "outputs": [],
      "source": [
        "cities_by_accidents=df.City.value_counts()\n",
        "cities_by_accidents"
      ]
    },
    {
      "cell_type": "code",
      "execution_count": null,
      "metadata": {
        "id": "J9kzBmTIe1CR"
      },
      "outputs": [],
      "source": [
        "cities_by_accidents[:20]"
      ]
    },
    {
      "cell_type": "markdown",
      "metadata": {
        "id": "6PuQaTt4XC0t"
      },
      "source": [
        "**This dataset does not contain data about New York**"
      ]
    },
    {
      "cell_type": "code",
      "execution_count": null,
      "metadata": {
        "id": "eHfxCytEXBQ_"
      },
      "outputs": [],
      "source": [
        "cities_by_accidents[:20].plot(kind=\"barh\")"
      ]
    },
    {
      "cell_type": "code",
      "execution_count": null,
      "metadata": {
        "id": "2ay5DR-Qe1IP"
      },
      "outputs": [],
      "source": [
        "import seaborn as sns\n",
        "import plotly.graph_objects as go\n",
        "sns.set_style('darkgrid')"
      ]
    },
    {
      "cell_type": "code",
      "execution_count": null,
      "metadata": {
        "id": "gWSpB6Qeb6UH"
      },
      "outputs": [],
      "source": [
        "sns.histplot(cities_by_accidents, log_scale=True)"
      ]
    },
    {
      "cell_type": "code",
      "execution_count": null,
      "metadata": {
        "id": "-j3_vJBAbh-4"
      },
      "outputs": [],
      "source": [
        "print(\"State Code: \", df.State.unique())\n",
        "print(\"Total No. of State: \", len(df.State.unique()))"
      ]
    },
    {
      "cell_type": "code",
      "execution_count": null,
      "metadata": {
        "id": "qP3Av42bbhzE"
      },
      "outputs": [],
      "source": [
        "state_counts = df[\"State\"].value_counts()\n",
        "fig = go.Figure(data=go.Choropleth(locations=state_counts.index, z=state_counts.values.astype(float), locationmode=\"USA-states\", colorscale=\"turbo\"))\n",
        "fig.update_layout(title_text=\"Number of accidents for each State\", geo_scope=\"usa\")\n",
        "fig.show()"
      ]
    },
    {
      "cell_type": "code",
      "execution_count": null,
      "metadata": {
        "id": "XkvJXb2LbiCW"
      },
      "outputs": [],
      "source": [
        "high_accidentsNo_cities=cities_by_accidents[cities_by_accidents >1000]\n",
        "low_accidentsNo_cities=cities_by_accidents[cities_by_accidents <1000]"
      ]
    },
    {
      "cell_type": "code",
      "execution_count": null,
      "metadata": {
        "id": "x0U64gE-cu8D"
      },
      "outputs": [],
      "source": [
        "len(high_accidentsNo_cities)/len(cities)"
      ]
    },
    {
      "cell_type": "code",
      "execution_count": null,
      "metadata": {
        "id": "3lGz3Y_pcvLg"
      },
      "outputs": [],
      "source": [
        "cities_by_accidents[cities_by_accidents==1]"
      ]
    },
    {
      "cell_type": "code",
      "execution_count": null,
      "metadata": {
        "id": "QIsH41TWcvUA"
      },
      "outputs": [],
      "source": [
        "df.Start_Time=pd.to_datetime(df.Start_Time)"
      ]
    },
    {
      "cell_type": "code",
      "execution_count": null,
      "metadata": {
        "id": "6GaPqxYQ2wIr"
      },
      "outputs": [],
      "source": [
        "df.Start_Time"
      ]
    },
    {
      "cell_type": "code",
      "execution_count": null,
      "metadata": {
        "id": "Dsa6c3P12wFR"
      },
      "outputs": [],
      "source": [
        "df.Start_Time[0]"
      ]
    },
    {
      "cell_type": "code",
      "execution_count": null,
      "metadata": {
        "id": "KU8kZHt32wAa"
      },
      "outputs": [],
      "source": [
        "\n",
        "df['Month'] = df['Start_Time'].dt.month\n",
        "df['Year'] = df['Start_Time'].dt.year\n",
        "df['Hour'] = df['Start_Time'].dt.hour\n",
        "df['Weekday'] = df['Start_Time'].dt.weekday\n",
        "#yearly data subset \n",
        "data_2016 = df[df.Start_Time.dt.year == 2016]\n",
        "data_2017 = df[df.Start_Time.dt.year == 2017]\n",
        "data_2018 = df[df.Start_Time.dt.year == 2018]\n",
        "data_2019 = df[df.Start_Time.dt.year == 2019]\n",
        "data_2020 = df[df.Start_Time.dt.year == 2020]\n",
        "data_2021 = df[df.Start_Time.dt.year == 2021]\n"
      ]
    },
    {
      "cell_type": "code",
      "execution_count": null,
      "metadata": {
        "id": "VvApZxVl5ezB"
      },
      "outputs": [],
      "source": [
        "import matplotlib.pyplot as plt"
      ]
    },
    {
      "cell_type": "markdown",
      "metadata": {
        "id": "h6tUADn45x8s"
      },
      "source": [
        "###Year by year increase in accidents"
      ]
    },
    {
      "cell_type": "code",
      "execution_count": null,
      "metadata": {
        "id": "-gxk7_1O5Txe"
      },
      "outputs": [],
      "source": [
        "fig, ax = plt.subplots(figsize = (10,5))\n",
        "cp = sns.countplot(x=\"Year\", data=df, orient = 'v', palette = \"coolwarm\")\n",
        "cp.set_title(\"No. of Accidents in Year\")\n",
        "for i in ax.patches:\n",
        "    count = '{:,.0f}'.format(i.get_height())\n",
        "    x = i.get_x()+i.get_width()-0.60\n",
        "    y = i.get_height()+10000\n",
        "    ax.annotate(count, (x, y))\n",
        "plt.show()"
      ]
    },
    {
      "cell_type": "markdown",
      "metadata": {
        "id": "veqKudQCxeSh"
      },
      "source": [
        "###analysis for months of different years\n",
        "\n",
        "\n"
      ]
    },
    {
      "cell_type": "code",
      "execution_count": null,
      "metadata": {
        "id": "SZP55oGi5TuK"
      },
      "outputs": [],
      "source": [
        "fig, ax = plt.subplots(figsize = (10,5))\n",
        "cp = sns.countplot(x=\"Month\", data=data_2016, palette = \"coolwarm\")\n",
        "cp.set_title(\"No. of Accidents in Months of Year 2016\")\n",
        "plt.show()"
      ]
    },
    {
      "cell_type": "markdown",
      "metadata": {
        "id": "Cwc27S0OeKRG"
      },
      "source": [
        "There seems to be no no data about of number of accidents in first month of 2016 . This is an anamoly here. "
      ]
    },
    {
      "cell_type": "code",
      "execution_count": null,
      "metadata": {
        "id": "8iVZa3NX5Tru"
      },
      "outputs": [],
      "source": [
        "fig, ax = plt.subplots(figsize = (10,5))\n",
        "cp = sns.countplot(x=\"Month\", data=data_2017, palette = \"coolwarm\")\n",
        "cp.set_title(\"No. of Accidents in Month of Year 2017 \")\n",
        "plt.show()"
      ]
    },
    {
      "cell_type": "code",
      "execution_count": null,
      "metadata": {
        "id": "5tL70KHY5TpT"
      },
      "outputs": [],
      "source": [
        "fig, ax = plt.subplots(figsize = (10,5))\n",
        "cp = sns.countplot(x=\"Month\", data=data_2018, palette = \"coolwarm\")\n",
        "cp.set_title(\"No. of Accidents in Month of Year 2018\")\n",
        "plt.show()"
      ]
    },
    {
      "cell_type": "code",
      "execution_count": null,
      "metadata": {
        "id": "XjpeEfaE5Tm6"
      },
      "outputs": [],
      "source": [
        "fig, ax = plt.subplots(figsize = (10,5))\n",
        "cp = sns.countplot(x=\"Month\", data=data_2019, palette = \"coolwarm\")\n",
        "cp.set_title(\"No. of Accidents in Month of Year 2019\")\n",
        "plt.show()"
      ]
    },
    {
      "cell_type": "code",
      "execution_count": null,
      "metadata": {
        "id": "qfZ4c1w65Tkh"
      },
      "outputs": [],
      "source": [
        "fig, ax = plt.subplots(figsize = (10,5))\n",
        "cp = sns.countplot(x=\"Month\", data=data_2020, palette = \"coolwarm\")\n",
        "cp.set_title(\"No. of Accidents in Month of Year 2020\")\n",
        "plt.show()"
      ]
    },
    {
      "cell_type": "markdown",
      "metadata": {
        "id": "qmurFKN0ee3q"
      },
      "source": [
        "Here also there is no or very less data about number of accidents for the 7th and 8th month that is July and August for the year 2020. This was maybe due to the lockdown or there might be an anamoly in the data."
      ]
    },
    {
      "cell_type": "code",
      "execution_count": null,
      "metadata": {
        "id": "BX_Dymz_7wGN"
      },
      "outputs": [],
      "source": [
        "fig, ax = plt.subplots(figsize = (10,5))\n",
        "cp = sns.countplot(x=\"Month\", data=data_2021, palette = \"coolwarm\")\n",
        "cp.set_title(\"No. of Accidents in Month of Year 2021\")\n",
        "plt.show()"
      ]
    },
    {
      "cell_type": "markdown",
      "metadata": {
        "id": "yJi9PSXO8Xvh"
      },
      "source": [
        "###Weekely analysis of year 2016"
      ]
    },
    {
      "cell_type": "code",
      "execution_count": null,
      "metadata": {
        "id": "ju81lw_87wBC"
      },
      "outputs": [],
      "source": [
        "fig, ax = plt.subplots(figsize = (16,5))\n",
        "cp = sns.countplot(x=data_2016.Start_Time.dt.isocalendar().week, data=data_2016, palette = \"coolwarm\")\n",
        "cp.set_title(\"No. of Accidents in each week of Year 2016\")\n",
        "plt.show()"
      ]
    },
    {
      "cell_type": "markdown",
      "metadata": {
        "id": "iiw_2K_J86hR"
      },
      "source": [
        "####and weekly analysis of year 2021"
      ]
    },
    {
      "cell_type": "code",
      "execution_count": null,
      "metadata": {
        "id": "L3Zmv8NZ7v7r"
      },
      "outputs": [],
      "source": [
        "fig, ax = plt.subplots(figsize = (16,5))\n",
        "cp = sns.countplot(x=data_2021.Start_Time.dt.isocalendar().week, data=data_2021, palette = \"coolwarm\")\n",
        "cp.set_title(\"No. of Accidents in each week of Year 2021\")\n",
        "plt.show()"
      ]
    },
    {
      "cell_type": "markdown",
      "metadata": {
        "id": "D6sYNFEGeokA"
      },
      "source": [
        "###analysis of accidents in days of a week."
      ]
    },
    {
      "cell_type": "code",
      "execution_count": null,
      "metadata": {
        "id": "F2sM_LZ1ej_V"
      },
      "outputs": [],
      "source": [
        "fig, ax = plt.subplots(figsize = (8,5))\n",
        "cp = sns.countplot(x=\"Weekday\", data=df, palette = \"coolwarm\")\n",
        "plt.annotate('Weekends', xy=(5,0), fontsize=12)\n",
        "cp.set_title(\"No. of Accidents in Weekdays\")\n",
        "plt.show()"
      ]
    },
    {
      "cell_type": "markdown",
      "metadata": {
        "id": "-Ly9Jm_0sQYT"
      },
      "source": [
        "#### There are less number of accidents on weekends as people usually stay at their homes on weekends and relax."
      ]
    },
    {
      "cell_type": "markdown",
      "metadata": {
        "id": "VHzyF_a_93ce"
      },
      "source": [
        "### Hours where most accidents happens\n",
        "\n"
      ]
    },
    {
      "cell_type": "code",
      "execution_count": null,
      "metadata": {
        "id": "rd95XgxP7vty"
      },
      "outputs": [],
      "source": [
        "fig, ax = plt.subplots(figsize = (10,5))\n",
        "sns.countplot(x=\"Hour\", data=df, palette = \"magma\")\n",
        "plt.show()"
      ]
    },
    {
      "cell_type": "markdown",
      "metadata": {
        "id": "xLShCYngtt1z"
      },
      "source": [
        "### accidents per different hours on sunday(weekend)"
      ]
    },
    {
      "cell_type": "code",
      "execution_count": null,
      "metadata": {
        "id": "VyyTXEmR7vo9"
      },
      "outputs": [],
      "source": [
        "fig, ax = plt.subplots(figsize = (8,4))\n",
        "sundays=df.Start_Time[df.Start_Time.dt.dayofweek==6]\n",
        "cp = sns.countplot(x=sundays.dt.hour, data=df, palette = \"magma\")\n",
        "plt.show()"
      ]
    },
    {
      "cell_type": "markdown",
      "metadata": {
        "id": "6aMBvuRNunBu"
      },
      "source": [
        "### accidents per different hours on monday\n"
      ]
    },
    {
      "cell_type": "code",
      "execution_count": null,
      "metadata": {
        "id": "3f4Vdkc8ueQ7"
      },
      "outputs": [],
      "source": [
        "fig, ax = plt.subplots(figsize = (8,4))\n",
        "mondays=df.Start_Time[df.Start_Time.dt.dayofweek==2]\n",
        "cp = sns.countplot(x=mondays.dt.hour, data=df, palette = \"magma\")\n",
        "plt.show()"
      ]
    },
    {
      "cell_type": "markdown",
      "metadata": {
        "id": "Rsgqy0Tlu1I7"
      },
      "source": [
        "####On sundays(weekends) peak is between 1pm to 6pm, whereas on weekdays like monday peak is between 3pm to 5pm."
      ]
    },
    {
      "cell_type": "markdown",
      "metadata": {
        "id": "DvuKsSaM_bE-"
      },
      "source": [
        "##Ask And Answer Questions\n",
        "\n",
        "1. Are there more accidents in warmer or colder areas?\n",
        "2. Which 5 states have the  highest number of accidents? How about per capita?\n",
        "3. Does New York show up in the data?\n",
        "4. Among the top 100 cities in number of accidents, which states do they belong to most frequently.\n",
        "5. What time of the day are accidents most frequent in?\n",
        "6. Which days of the week have the most accidents?\n",
        "7. Which months have the most accidents?\n",
        "8. What is the trend of accidents year over year (increasing/decreasing)?\n"
      ]
    },
    {
      "cell_type": "markdown",
      "metadata": {
        "id": "Zvj-OYwIl0ip"
      },
      "source": [
        "##Start Latitude and Longitude"
      ]
    },
    {
      "cell_type": "code",
      "execution_count": null,
      "metadata": {
        "id": "LNQK-Tu4lv9I"
      },
      "outputs": [],
      "source": [
        "import folium"
      ]
    },
    {
      "cell_type": "code",
      "execution_count": null,
      "metadata": {
        "id": "nBnQf2e4lwAg"
      },
      "outputs": [],
      "source": [
        "map=folium.Map()"
      ]
    },
    {
      "cell_type": "markdown",
      "metadata": {
        "id": "OUYEvrKZxqLq"
      },
      "source": [
        "## Summary and Conclusions:\n",
        "\n",
        "Insights:\n",
        "\n",
        "1.No data from New York.\n",
        "\n",
        "2.The number of accidents per cities decreases exponentially.\n",
        "\n",
        "3.Approx. 4% cities have more than 1000 accidents per year.\n",
        "\n",
        "4.Over 1100 cities reported just 1 accident(need investigation).\n",
        "\n",
        "5.Most accidents occur between 3pm to 5pm( time people return from work).\n",
        "\n",
        "\n"
      ]
    },
    {
      "cell_type": "code",
      "execution_count": null,
      "metadata": {
        "id": "LhPabFxAxs1U"
      },
      "outputs": [],
      "source": []
    }
  ],
  "metadata": {
    "accelerator": "GPU",
    "colab": {
      "provenance": [],
      "authorship_tag": "ABX9TyMB5zp/JZKthCAsFEcu+x+j",
      "include_colab_link": true
    },
    "kernelspec": {
      "display_name": "Python 3",
      "name": "python3"
    },
    "language_info": {
      "name": "python"
    }
  },
  "nbformat": 4,
  "nbformat_minor": 0
}